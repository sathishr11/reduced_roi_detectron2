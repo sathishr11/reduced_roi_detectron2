{
 "cells": [
  {
   "cell_type": "code",
   "execution_count": 1,
   "metadata": {},
   "outputs": [
    {
     "name": "stderr",
     "output_type": "stream",
     "text": [
      "c:\\Users\\satsathi\\FSDS_FT\\localrepo\\roi\\using_detectron2\\env\\lib\\site-packages\\tqdm\\auto.py:22: TqdmWarning: IProgress not found. Please update jupyter and ipywidgets. See https://ipywidgets.readthedocs.io/en/stable/user_install.html\n",
      "  from .autonotebook import tqdm as notebook_tqdm\n"
     ]
    },
    {
     "name": "stdout",
     "output_type": "stream",
     "text": [
      "torch:  1.13 ; cuda:  cpu\n"
     ]
    }
   ],
   "source": [
    "import torch\n",
    "TORCH_VERSION = \".\".join(torch.__version__.split(\".\")[:2])\n",
    "CUDA_VERSION = torch.__version__.split(\"+\")[-1]\n",
    "print(\"torch: \", TORCH_VERSION, \"; cuda: \", CUDA_VERSION)"
   ]
  },
  {
   "cell_type": "code",
   "execution_count": 2,
   "metadata": {},
   "outputs": [],
   "source": [
    "import cv2"
   ]
  },
  {
   "cell_type": "code",
   "execution_count": 3,
   "metadata": {},
   "outputs": [],
   "source": [
    "# Some basic setup:\n",
    "# Setup detectron2 logger\n",
    "import detectron2\n",
    "from detectron2.utils.logger import setup_logger\n",
    "setup_logger()\n",
    "\n",
    "# import some common libraries\n",
    "import numpy as np\n",
    "import os, json, cv2, random\n",
    "# from google.colab.patches import cv2_imshow\n",
    "\n",
    "# import some common detectron2 utilities\n",
    "from detectron2 import model_zoo\n",
    "from detectron2.engine import DefaultPredictor\n",
    "from detectron2.config import get_cfg\n",
    "from detectron2.utils.visualizer import Visualizer\n",
    "from detectron2.data import MetadataCatalog, DatasetCatalog\n",
    "\n",
    "cfg = get_cfg()\n",
    "cfg.MODEL.DEVICE='cpu'\n",
    "# add project-specific config (e.g., TensorMask) here if you're not running a model in detectron2's core library\n",
    "cfg.merge_from_file(model_zoo.get_config_file(\"COCO-Detection/faster_rcnn_R_50_FPN_3x.yaml\"))\n",
    "cfg.MODEL.ROI_HEADS.SCORE_THRESH_TEST = 0.5  # set threshold for this model\n",
    "# Find a model from detectron2's model zoo. You can use the https://dl.fbaipublicfiles... url as well\n",
    "cfg.MODEL.WEIGHTS = model_zoo.get_checkpoint_url(\"COCO-Detection/faster_rcnn_R_50_FPN_3x.yaml\")\n",
    "predictor = DefaultPredictor(cfg)"
   ]
  },
  {
   "cell_type": "code",
   "execution_count": 4,
   "metadata": {},
   "outputs": [],
   "source": [
    "img = cv2.imread('../mask_preparation/pic/clear.JPG')\n",
    "cv2.imshow(\"Image\", img)\n",
    "cv2.waitKey(0)\n",
    "cv2.destroyAllWindows()\n",
    "# using masking\n",
    "mask = cv2.imread('../mask_preparation/json/clear_json/label.png')\n",
    "mask[:, :640, :] = 0 # Mask all left half region\n",
    "cv2.imshow(\"Mask\", mask)\n",
    "cv2.waitKey(0)\n",
    "cv2.destroyAllWindows()\n",
    "\n",
    "img2gray = cv2.cvtColor(mask, cv2.COLOR_BGR2GRAY)                 #Convert mask to grayscale\n",
    "ret,mask = cv2.threshold(img2gray,0,255,cv2.THRESH_BINARY)         #Parts greater than 0 become white and parts less than or equal to 0 become black\n",
    "masked_img = cv2.bitwise_and(img,img, mask=mask)                #Press bit and 0 to directly turn black, and the white part pasted on the original drawing remains unchanged\n",
    "\n",
    "cv2.imshow(\"After applying mask\", masked_img)\n",
    "cv2.waitKey(0)\n",
    "cv2.destroyAllWindows()\n"
   ]
  },
  {
   "cell_type": "code",
   "execution_count": 5,
   "metadata": {},
   "outputs": [
    {
     "name": "stderr",
     "output_type": "stream",
     "text": [
      "c:\\Users\\satsathi\\FSDS_FT\\localrepo\\roi\\using_detectron2\\env\\lib\\site-packages\\torch\\functional.py:504: UserWarning: torch.meshgrid: in an upcoming release, it will be required to pass the indexing argument. (Triggered internally at C:\\actions-runner\\_work\\pytorch\\pytorch\\builder\\windows\\pytorch\\aten\\src\\ATen\\native\\TensorShape.cpp:3191.)\n",
      "  return _VF.meshgrid(tensors, **kwargs)  # type: ignore[attr-defined]\n"
     ]
    }
   ],
   "source": [
    "# Use masked image for inferencing\n",
    "outputs = predictor(masked_img)\n",
    "\n",
    "v = Visualizer(img[:, :, ::-1], MetadataCatalog.get(cfg.DATASETS.TRAIN[0]), scale=1.2)\n",
    "out = v.draw_instance_predictions(outputs[\"instances\"].to(\"cpu\"))\n",
    "cv2.imshow(\"Inferencing Output\",out.get_image()[:, :, ::-1])\n",
    "cv2.waitKey(0)\n",
    "cv2.destroyAllWindows()"
   ]
  },
  {
   "cell_type": "code",
   "execution_count": null,
   "metadata": {},
   "outputs": [],
   "source": [
    "from PIL import Image\n",
    "from detectron2.utils.visualizer import ColorMode\n",
    "# gen_path = pathlib.Path.cwd()\n",
    "\n",
    "DEVICE = \"cuda\" if torch.cuda.is_available() else \"cpu\" \n",
    "  \n",
    "cam = cv2.VideoCapture('KBsqQez-O4w.mp4')\n",
    "  \n",
    "while(True): \n",
    "    ret, frame = cam.read()\n",
    "    frame = frame[:, :, [2,1,0]]\n",
    "    frame = Image.fromarray(frame) \n",
    "    frame = cv2.cvtColor(np.array(frame), cv2.COLOR_RGB2BGR)\n",
    "    mask = cv2.imread('../mask_preparation/json/clear_json/label.png')\n",
    "    mask[:, :640, :] = 0 # Mask all left half region\n",
    "    img2gray = cv2.cvtColor(mask, cv2.COLOR_BGR2GRAY)                 #Convert mask to grayscale\n",
    "    ret,mask = cv2.threshold(img2gray,0,255,cv2.THRESH_BINARY)         #Parts greater than 0 become white and parts less than or equal to 0 become black\n",
    "    masked_frame = cv2.bitwise_and(frame,frame, mask=mask)\n",
    "\n",
    "    # result = model(frame,size=640)\n",
    "    outputs = predictor(masked_frame)\n",
    "    \n",
    "\n",
    "    v = Visualizer(frame[:, :, ::-1],\n",
    "                   metadata=MetadataCatalog.get(cfg.DATASETS.TRAIN[0]), \n",
    "                   scale=0.5, \n",
    "                #    instance_mode=ColorMode.IMAGE_BW   # remove the colors of unsegmented pixels. This option is only available for segmentation models\n",
    "    )\n",
    "    out = v.draw_instance_predictions(outputs[\"instances\"].to(\"cpu\"))\n",
    "    cv2.imshow('Detectron2',out.get_image()[:, :, ::-1])\n",
    "\n",
    "    if cv2.waitKey(1) & 0xFF == ord('q'):\n",
    "        break\n",
    "  \n",
    "cam.release()\n",
    "cv2.destroyAllWindows()\n"
   ]
  },
  {
   "cell_type": "code",
   "execution_count": null,
   "metadata": {},
   "outputs": [],
   "source": []
  }
 ],
 "metadata": {
  "kernelspec": {
   "display_name": "Python 3.8.0 (conda)",
   "language": "python",
   "name": "python3"
  },
  "language_info": {
   "codemirror_mode": {
    "name": "ipython",
    "version": 3
   },
   "file_extension": ".py",
   "mimetype": "text/x-python",
   "name": "python",
   "nbconvert_exporter": "python",
   "pygments_lexer": "ipython3",
   "version": "3.8.0"
  },
  "orig_nbformat": 4,
  "vscode": {
   "interpreter": {
    "hash": "60aede66400071538554ac2533e0ed48acfb13523fa8eb6d810934756a622378"
   }
  }
 },
 "nbformat": 4,
 "nbformat_minor": 2
}
